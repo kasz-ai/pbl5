{
  "cells": [
    {
      "cell_type": "code",
      "execution_count": 2,
      "metadata": {
        "colab": {
          "base_uri": "https://localhost:8080/"
        },
        "id": "tmkPI11-s0hl",
        "outputId": "906fa6b5-71b3-49a3-8a9d-a752ffa11159"
      },
      "outputs": [
        {
          "name": "stdout",
          "output_type": "stream",
          "text": [
            "e:\\VisualCode\\Code python\\Faster_R_CNN\\simple-faster-rcnn-pytorch\n"
          ]
        }
      ],
      "source": [
        "%cd simple-faster-rcnn-pytorch\n",
        "%load_ext autoreload\n",
        "%autoreload 2\n",
        "import os\n",
        "import torch as t\n",
        "from utils.config import opt\n",
        "from model import FasterRCNNVGG16\n",
        "from trainer import FasterRCNNTrainer\n",
        "from data.util import  read_image\n",
        "from utils.vis_tool import vis_bbox\n",
        "from utils import array_tool as at\n",
        "%matplotlib inline"
      ]
    },
    {
      "cell_type": "code",
      "execution_count": 3,
      "metadata": {},
      "outputs": [
        {
          "name": "stderr",
          "output_type": "stream",
          "text": [
            "d:\\Program\\Python311\\Lib\\site-packages\\torchvision\\models\\_utils.py:135: UserWarning: Using 'weights' as positional parameter(s) is deprecated since 0.13 and may be removed in the future. Please use keyword parameter(s) instead.\n",
            "  warnings.warn(\n",
            "d:\\Program\\Python311\\Lib\\site-packages\\torchvision\\models\\_utils.py:223: UserWarning: Arguments other than a weight enum or `None` for 'weights' are deprecated since 0.13 and may be removed in the future. The current behavior is equivalent to passing `weights=VGG16_Weights.IMAGENET1K_V1`. You can also use `weights=VGG16_Weights.DEFAULT` to get the most up-to-date weights.\n",
            "  warnings.warn(msg)\n",
            "Setting up a new session...\n"
          ]
        },
        {
          "name": "stdout",
          "output_type": "stream",
          "text": [
            "Exception in user code:\n",
            "------------------------------------------------------------\n"
          ]
        },
        {
          "name": "stderr",
          "output_type": "stream",
          "text": [
            "Traceback (most recent call last):\n",
            "  File \"d:\\Program\\Python311\\Lib\\site-packages\\urllib3\\connection.py\", line 174, in _new_conn\n",
            "    conn = connection.create_connection(\n",
            "           ^^^^^^^^^^^^^^^^^^^^^^^^^^^^^\n",
            "  File \"d:\\Program\\Python311\\Lib\\site-packages\\urllib3\\util\\connection.py\", line 95, in create_connection\n",
            "    raise err\n",
            "  File \"d:\\Program\\Python311\\Lib\\site-packages\\urllib3\\util\\connection.py\", line 85, in create_connection\n",
            "    sock.connect(sa)\n",
            "ConnectionRefusedError: [WinError 10061] No connection could be made because the target machine actively refused it\n",
            "\n",
            "During handling of the above exception, another exception occurred:\n",
            "\n",
            "Traceback (most recent call last):\n",
            "  File \"d:\\Program\\Python311\\Lib\\site-packages\\urllib3\\connectionpool.py\", line 703, in urlopen\n",
            "    httplib_response = self._make_request(\n",
            "                       ^^^^^^^^^^^^^^^^^^^\n",
            "  File \"d:\\Program\\Python311\\Lib\\site-packages\\urllib3\\connectionpool.py\", line 398, in _make_request\n",
            "    conn.request(method, url, **httplib_request_kw)\n",
            "  File \"d:\\Program\\Python311\\Lib\\site-packages\\urllib3\\connection.py\", line 244, in request\n",
            "    super(HTTPConnection, self).request(method, url, body=body, headers=headers)\n",
            "  File \"d:\\Program\\Python311\\Lib\\http\\client.py\", line 1282, in request\n",
            "    self._send_request(method, url, body, headers, encode_chunked)\n",
            "  File \"d:\\Program\\Python311\\Lib\\http\\client.py\", line 1328, in _send_request\n",
            "    self.endheaders(body, encode_chunked=encode_chunked)\n",
            "  File \"d:\\Program\\Python311\\Lib\\http\\client.py\", line 1277, in endheaders\n",
            "    self._send_output(message_body, encode_chunked=encode_chunked)\n",
            "  File \"d:\\Program\\Python311\\Lib\\http\\client.py\", line 1037, in _send_output\n",
            "    self.send(msg)\n",
            "  File \"d:\\Program\\Python311\\Lib\\http\\client.py\", line 975, in send\n",
            "    self.connect()\n",
            "  File \"d:\\Program\\Python311\\Lib\\site-packages\\urllib3\\connection.py\", line 205, in connect\n",
            "    conn = self._new_conn()\n",
            "           ^^^^^^^^^^^^^^^^\n",
            "  File \"d:\\Program\\Python311\\Lib\\site-packages\\urllib3\\connection.py\", line 186, in _new_conn\n",
            "    raise NewConnectionError(\n",
            "urllib3.exceptions.NewConnectionError: <urllib3.connection.HTTPConnection object at 0x000001AD51AA1D90>: Failed to establish a new connection: [WinError 10061] No connection could be made because the target machine actively refused it\n",
            "\n",
            "During handling of the above exception, another exception occurred:\n",
            "\n",
            "Traceback (most recent call last):\n",
            "  File \"d:\\Program\\Python311\\Lib\\site-packages\\requests\\adapters.py\", line 439, in send\n",
            "    resp = conn.urlopen(\n",
            "           ^^^^^^^^^^^^^\n",
            "  File \"d:\\Program\\Python311\\Lib\\site-packages\\urllib3\\connectionpool.py\", line 787, in urlopen\n",
            "    retries = retries.increment(\n",
            "              ^^^^^^^^^^^^^^^^^^\n",
            "  File \"d:\\Program\\Python311\\Lib\\site-packages\\urllib3\\util\\retry.py\", line 592, in increment\n",
            "    raise MaxRetryError(_pool, url, error or ResponseError(cause))\n",
            "urllib3.exceptions.MaxRetryError: HTTPConnectionPool(host='localhost', port=8097): Max retries exceeded with url: /env/faster-rcnn (Caused by NewConnectionError('<urllib3.connection.HTTPConnection object at 0x000001AD51AA1D90>: Failed to establish a new connection: [WinError 10061] No connection could be made because the target machine actively refused it'))\n",
            "\n",
            "During handling of the above exception, another exception occurred:\n",
            "\n",
            "Traceback (most recent call last):\n",
            "  File \"d:\\Program\\Python311\\Lib\\site-packages\\visdom\\__init__.py\", line 756, in _send\n",
            "    return self._handle_post(\n",
            "           ^^^^^^^^^^^^^^^^^^\n",
            "  File \"d:\\Program\\Python311\\Lib\\site-packages\\visdom\\__init__.py\", line 720, in _handle_post\n",
            "    r = self.session.post(url, data=data)\n",
            "        ^^^^^^^^^^^^^^^^^^^^^^^^^^^^^^^^^\n",
            "  File \"d:\\Program\\Python311\\Lib\\site-packages\\requests\\sessions.py\", line 590, in post\n",
            "    return self.request('POST', url, data=data, json=json, **kwargs)\n",
            "           ^^^^^^^^^^^^^^^^^^^^^^^^^^^^^^^^^^^^^^^^^^^^^^^^^^^^^^^^^\n",
            "  File \"d:\\Program\\Python311\\Lib\\site-packages\\requests\\sessions.py\", line 542, in request\n",
            "    resp = self.send(prep, **send_kwargs)\n",
            "           ^^^^^^^^^^^^^^^^^^^^^^^^^^^^^^\n",
            "  File \"d:\\Program\\Python311\\Lib\\site-packages\\requests\\sessions.py\", line 655, in send\n",
            "    r = adapter.send(request, **kwargs)\n",
            "        ^^^^^^^^^^^^^^^^^^^^^^^^^^^^^^^\n",
            "  File \"d:\\Program\\Python311\\Lib\\site-packages\\requests\\adapters.py\", line 516, in send\n",
            "    raise ConnectionError(e, request=request)\n",
            "requests.exceptions.ConnectionError: HTTPConnectionPool(host='localhost', port=8097): Max retries exceeded with url: /env/faster-rcnn (Caused by NewConnectionError('<urllib3.connection.HTTPConnection object at 0x000001AD51AA1D90>: Failed to establish a new connection: [WinError 10061] No connection could be made because the target machine actively refused it'))\n",
            "Without the incoming socket you cannot receive events from the server or register event handlers to your Visdom client.\n"
          ]
        }
      ],
      "source": [
        "faster_rcnn = FasterRCNNVGG16()\n",
        "# faster_rcnn.score_thresh = 0.6\n",
        "trainer = FasterRCNNTrainer(faster_rcnn)"
      ]
    },
    {
      "cell_type": "code",
      "execution_count": 4,
      "metadata": {},
      "outputs": [
        {
          "name": "stdout",
          "output_type": "stream",
          "text": [
            "(3, 375, 500)\n",
            "torch.Size([1, 3, 375, 500])\n"
          ]
        }
      ],
      "source": [
        "import cv2\n",
        "img = cv2.imread('misc/demo.jpg')\n",
        "img = cv2.cvtColor(img, cv2.COLOR_BGR2RGB)\n",
        "img = img.transpose((2, 0, 1))\n",
        "print(img.shape)\n",
        "img = t.from_numpy(img)[None]\n",
        "print(img.shape)"
      ]
    },
    {
      "cell_type": "code",
      "execution_count": null,
      "metadata": {},
      "outputs": [],
      "source": [
        "trainer.load('fasterrcnn_12211511_0.701052458187_torchvision_pretrain.pth')\n",
        "opt.caffe_pretrain=False # this model was trained from torchvision-pretrained model\n",
        "_bboxes, _labels, _scores = trainer.faster_rcnn.predict(img,visualize=True)\n",
        "print(type(_bboxes), type(_labels), type(_scores))\n",
        "img = vis_bbox(at.tonumpy(img[0]),\n",
        "         at.tonumpy(_bboxes[0]),\n",
        "         at.tonumpy(_labels[0]).reshape(-1),\n",
        "         at.tonumpy(_scores[0]).reshape(-1))\n",
        "cv2.imshow('img', img)\n",
        "if cv2.waitKey(1) == ord(\"q\"):\n",
        "    cv2.destroyAllWindows()"
      ]
    },
    {
      "cell_type": "code",
      "execution_count": null,
      "metadata": {},
      "outputs": [],
      "source": [
        "import cv2\n",
        "\n",
        "trainer.load('fasterrcnn_12211511_0.701052458187_torchvision_pretrain.pth')\n",
        "opt.caffe_pretrain=False # this model was trained from torchvision-pretrained model\n",
        "\n",
        "cap = cv2.VideoCapture('video.mp4')\n",
        "\n",
        "while True:\n",
        "  success, frame = cap.read()\n",
        "  if success:\n",
        "    frame = cv2.cvtColor(frame, cv2.COLOR_BGR2RGB)\n",
        "    frame = frame.transpose((2, 0, 1))\n",
        "    frame = t.from_numpy(frame)[None]\n",
        "    _bboxes, _labels, _scores = trainer.faster_rcnn.predict(frame,visualize=True)\n",
        "    frame = vis_bbox(at.tonumpy(frame[0]),\n",
        "            at.tonumpy(_bboxes[0]),\n",
        "            at.tonumpy(_labels[0]).reshape(-1),\n",
        "            at.tonumpy(_scores[0]).reshape(-1))\n",
        "    cv2.imshow('frame', frame)\n",
        "  else:\n",
        "    break"
      ]
    },
    {
      "cell_type": "code",
      "execution_count": 10,
      "metadata": {},
      "outputs": [
        {
          "name": "stdout",
          "output_type": "stream",
          "text": [
            "^C\n"
          ]
        }
      ],
      "source": [
        "!python train.py train --env='fasterrcnn' --plot-every=100 --voc-data-dir=VOCdevkit/VOC2007"
      ]
    }
  ],
  "metadata": {
    "accelerator": "GPU",
    "colab": {
      "gpuType": "T4",
      "provenance": []
    },
    "gpuClass": "standard",
    "kernelspec": {
      "display_name": "Python 3",
      "name": "python3"
    },
    "language_info": {
      "codemirror_mode": {
        "name": "ipython",
        "version": 3
      },
      "file_extension": ".py",
      "mimetype": "text/x-python",
      "name": "python",
      "nbconvert_exporter": "python",
      "pygments_lexer": "ipython3",
      "version": "3.11.2"
    }
  },
  "nbformat": 4,
  "nbformat_minor": 0
}
